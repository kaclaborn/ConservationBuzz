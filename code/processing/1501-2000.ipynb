{
 "cells": [
  {
   "cell_type": "code",
   "execution_count": 1,
   "id": "1b27c95d-c672-4aaa-be83-10ecf35b0221",
   "metadata": {},
   "outputs": [],
   "source": [
    "start = 1501\n",
    "stop = 2000;"
   ]
  },
  {
   "cell_type": "code",
   "execution_count": 2,
   "id": "9d60c05c-a77c-418f-beb7-67e7f6ed323b",
   "metadata": {},
   "outputs": [],
   "source": [
    "file1 = [\"/home/kclabor1/ConservationBuzz/data/corpora/preprocessed/media/checkduplicates/checkduplicates_nyt_\", start, \"-\", stop, \"a.csv\"]\n",
    "file2 = [\"/home/kclabor1/ConservationBuzz/data/corpora/preprocessed/media/checkduplicates/checkduplicates_nyt_\", start, \"-\", stop, \"b.csv\"];"
   ]
  },
  {
   "cell_type": "code",
   "execution_count": 2,
   "id": "bc1881a9-74c6-4267-b89d-287e24692ccf",
   "metadata": {},
   "outputs": [],
   "source": [
    "include(\"/home/kclabor1/ConservationBuzz/code/processing/findDuplicates.jl\")"
   ]
  },
  {
   "cell_type": "code",
   "execution_count": null,
   "id": "cf86c544-05e0-4492-bb8e-186365b3b815",
   "metadata": {},
   "outputs": [],
   "source": [
    "output = stringDist(docs_nyt, start, stop);"
   ]
  },
  {
   "cell_type": "code",
   "execution_count": null,
   "id": "0cd7cc93-4761-49c8-aebf-4a460b37bcc5",
   "metadata": {},
   "outputs": [],
   "source": [
    "writedlm( join(file1), output[2], ',')\n",
    "writedlm( join(file2), output[1], ',');"
   ]
  },
  {
   "cell_type": "code",
   "execution_count": 3,
   "id": "c0047d53-6173-4c79-b1ab-e8eaf9f25494",
   "metadata": {},
   "outputs": [],
   "source": [
    "file1 = [\"/home/kclabor1/ConservationBuzz/data/corpora/preprocessed/media/checkduplicates/checkduplicates_wsj_\", start, \"-\", stop, \"a.csv\"]\n",
    "file2 = [\"/home/kclabor1/ConservationBuzz/data/corpora/preprocessed/media/checkduplicates/checkduplicates_wsj_\", start, \"-\", stop, \"b.csv\"];"
   ]
  },
  {
   "cell_type": "code",
   "execution_count": null,
   "id": "36ec7fb5-8bb0-4f3b-bca6-bebe74c8ec22",
   "metadata": {},
   "outputs": [],
   "source": [
    "output = stringDist(docs_wsj, start, stop);"
   ]
  },
  {
   "cell_type": "code",
   "execution_count": null,
   "id": "f22fa33b-e10b-472e-b1be-d84a22347968",
   "metadata": {},
   "outputs": [],
   "source": [
    "writedlm( join(file1), output[2], ',')\n",
    "writedlm( join(file2), output[1], ',');"
   ]
  },
  {
   "cell_type": "code",
   "execution_count": null,
   "id": "7c223464-7b86-4f86-827f-2fc73d3bd748",
   "metadata": {},
   "outputs": [],
   "source": []
  }
 ],
 "metadata": {
  "kernelspec": {
   "display_name": "Julia 1.8.2",
   "language": "julia",
   "name": "julia-1.8"
  },
  "language_info": {
   "file_extension": ".jl",
   "mimetype": "application/julia",
   "name": "julia",
   "version": "1.8.2"
  }
 },
 "nbformat": 4,
 "nbformat_minor": 5
}
