{
 "cells": [
  {
   "cell_type": "code",
   "execution_count": 1,
   "id": "1b27c95d-c672-4aaa-be83-10ecf35b0221",
   "metadata": {},
   "outputs": [],
   "source": [
    "start = 5001\n",
    "stop = 5500;"
   ]
  },
  {
   "cell_type": "code",
   "execution_count": 2,
   "id": "9d60c05c-a77c-418f-beb7-67e7f6ed323b",
   "metadata": {},
   "outputs": [],
   "source": [
    "file1 = [\"/home/kclabor1/ConservationBuzz/data/corpora/preprocessed/media/checkduplicates/checkduplicates_nyt_\", start, \"-\", stop, \"a.csv\"]\n",
    "file2 = [\"/home/kclabor1/ConservationBuzz/data/corpora/preprocessed/media/checkduplicates/checkduplicates_nyt_\", start, \"-\", stop, \"b.csv\"];"
   ]
  },
  {
   "cell_type": "code",
   "execution_count": 3,
   "id": "7f0cf160-21e3-451d-943e-4994d56abcac",
   "metadata": {},
   "outputs": [],
   "source": [
    "include(\"/home/kclabor1/ConservationBuzz/code/processing/findDuplicates_NYT.jl\")"
   ]
  },
  {
   "cell_type": "code",
   "execution_count": null,
   "id": "cf86c544-05e0-4492-bb8e-186365b3b815",
   "metadata": {},
   "outputs": [],
   "source": [
    "output = stringDist(docs_nyt, start, stop);"
   ]
  },
  {
   "cell_type": "code",
   "execution_count": null,
   "id": "0cd7cc93-4761-49c8-aebf-4a460b37bcc5",
   "metadata": {},
   "outputs": [],
   "source": [
    "writedlm( join(file1), output[2], ',')\n",
    "writedlm( join(file2), output[1], ',');"
   ]
  },
  {
   "cell_type": "code",
   "execution_count": null,
   "id": "11fefcb9-9c03-4428-9018-88b552a3f55b",
   "metadata": {},
   "outputs": [],
   "source": []
  }
 ],
 "metadata": {
  "kernelspec": {
   "display_name": "Julia 1.8.2",
   "language": "julia",
   "name": "julia-1.8"
  },
  "language_info": {
   "file_extension": ".jl",
   "mimetype": "application/julia",
   "name": "julia",
   "version": "1.8.2"
  }
 },
 "nbformat": 4,
 "nbformat_minor": 5
}
