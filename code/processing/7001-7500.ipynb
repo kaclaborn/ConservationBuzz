{
 "cells": [
  {
   "cell_type": "code",
   "execution_count": 1,
   "id": "1b27c95d-c672-4aaa-be83-10ecf35b0221",
   "metadata": {},
   "outputs": [],
   "source": [
    "start = 7001\n",
    "stop = 7500;"
   ]
  },
  {
   "cell_type": "code",
   "execution_count": 2,
   "id": "9d60c05c-a77c-418f-beb7-67e7f6ed323b",
   "metadata": {},
   "outputs": [],
   "source": [
    "file1 = [\"/home/kclabor1/ConservationBuzz/data/corpora/preprocessed/media/checkduplicates/checkduplicates_nyt_\", start, \"-\", stop, \"a.csv\"]\n",
    "file2 = [\"/home/kclabor1/ConservationBuzz/data/corpora/preprocessed/media/checkduplicates/checkduplicates_nyt_\", start, \"-\", stop, \"b.csv\"];"
   ]
  },
  {
   "cell_type": "code",
   "execution_count": 2,
   "id": "6b0c93ae-ff1a-424d-8fcc-b2d0f0b021e0",
   "metadata": {},
   "outputs": [],
   "source": [
    "include(\"/home/kclabor1/ConservationBuzz/code/processing/findDuplicates.jl\")"
   ]
  },
  {
   "cell_type": "code",
   "execution_count": null,
   "id": "cf86c544-05e0-4492-bb8e-186365b3b815",
   "metadata": {},
   "outputs": [],
   "source": [
    "output = stringDist(docs_nyt, start, stop);"
   ]
  },
  {
   "cell_type": "code",
   "execution_count": null,
   "id": "0cd7cc93-4761-49c8-aebf-4a460b37bcc5",
   "metadata": {},
   "outputs": [],
   "source": [
    "writedlm( join(file1), output[2], ',')\n",
    "writedlm( join(file2), output[1], ',');"
   ]
  },
  {
   "cell_type": "code",
   "execution_count": 3,
   "id": "f2b6f5a5-f173-42f1-ad59-9857bf30ae64",
   "metadata": {},
   "outputs": [],
   "source": [
    "file1 = [\"/home/kclabor1/ConservationBuzz/data/corpora/preprocessed/media/checkduplicates/checkduplicates_wsj_\", start, \"-\", stop, \"a.csv\"]\n",
    "file2 = [\"/home/kclabor1/ConservationBuzz/data/corpora/preprocessed/media/checkduplicates/checkduplicates_wsj_\", start, \"-\", stop, \"b.csv\"];"
   ]
  },
  {
   "cell_type": "code",
   "execution_count": null,
   "id": "2f7f326d-c386-4142-8af6-2c301e1e824c",
   "metadata": {},
   "outputs": [],
   "source": [
    "output = stringDist(docs_wsj, start, stop);"
   ]
  },
  {
   "cell_type": "code",
   "execution_count": null,
   "id": "6036393b-2fcd-4324-9c79-4224527494bd",
   "metadata": {},
   "outputs": [],
   "source": [
    "writedlm( join(file1), output[2], ',')\n",
    "writedlm( join(file2), output[1], ',');"
   ]
  },
  {
   "cell_type": "code",
   "execution_count": null,
   "id": "92cb3570-e8ec-42bf-9fbe-60b2f981a2a6",
   "metadata": {},
   "outputs": [],
   "source": []
  }
 ],
 "metadata": {
  "kernelspec": {
   "display_name": "Julia 1.8.2",
   "language": "julia",
   "name": "julia-1.8"
  },
  "language_info": {
   "file_extension": ".jl",
   "mimetype": "application/julia",
   "name": "julia",
   "version": "1.8.2"
  }
 },
 "nbformat": 4,
 "nbformat_minor": 5
}
