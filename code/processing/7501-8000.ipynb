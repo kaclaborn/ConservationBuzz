{
 "cells": [
  {
   "cell_type": "code",
   "execution_count": 1,
   "id": "1b27c95d-c672-4aaa-be83-10ecf35b0221",
   "metadata": {},
   "outputs": [],
   "source": [
    "start = 7501\n",
    "stop = 8000;"
   ]
  },
  {
   "cell_type": "code",
   "execution_count": 2,
   "id": "9d60c05c-a77c-418f-beb7-67e7f6ed323b",
   "metadata": {},
   "outputs": [],
   "source": [
    "file1 = [\"/home/kclabor1/ConservationBuzz/data/corpora/preprocessed/media/checkduplicates/checkduplicates_nyt_\", start, \"-\", stop, \"a.csv\"]\n",
    "file2 = [\"/home/kclabor1/ConservationBuzz/data/corpora/preprocessed/media/checkduplicates/checkduplicates_nyt_\", start, \"-\", stop, \"b.csv\"];"
   ]
  },
  {
   "cell_type": "code",
   "execution_count": 2,
   "id": "037c68bf-7e55-4eec-a155-2d3a81f9c9ef",
   "metadata": {},
   "outputs": [],
   "source": [
    "include(\"/home/kclabor1/ConservationBuzz/code/processing/findDuplicates.jl\")"
   ]
  },
  {
   "cell_type": "code",
   "execution_count": null,
   "id": "cf86c544-05e0-4492-bb8e-186365b3b815",
   "metadata": {},
   "outputs": [],
   "source": [
    "output = stringDist(docs_nyt, start, stop);"
   ]
  },
  {
   "cell_type": "code",
   "execution_count": null,
   "id": "0cd7cc93-4761-49c8-aebf-4a460b37bcc5",
   "metadata": {},
   "outputs": [],
   "source": [
    "writedlm( join(file1), output[2], ',')\n",
    "writedlm( join(file2), output[1], ',');"
   ]
  },
  {
   "cell_type": "code",
   "execution_count": 3,
   "id": "69b4d29a-fcf9-45ab-83d4-c887650b1268",
   "metadata": {},
   "outputs": [],
   "source": [
    "file1 = [\"/home/kclabor1/ConservationBuzz/data/corpora/preprocessed/media/checkduplicates/checkduplicates_wsj_\", start, \"-\", stop, \"a.csv\"]\n",
    "file2 = [\"/home/kclabor1/ConservationBuzz/data/corpora/preprocessed/media/checkduplicates/checkduplicates_wsj_\", start, \"-\", stop, \"b.csv\"];"
   ]
  },
  {
   "cell_type": "code",
   "execution_count": null,
   "id": "f9883d3e-1b0c-42e4-960e-167a665e6fd4",
   "metadata": {},
   "outputs": [],
   "source": [
    "output = stringDist(docs_wsj, start, stop);"
   ]
  },
  {
   "cell_type": "code",
   "execution_count": null,
   "id": "412ecca0-52bf-4ac0-801d-a10fcdc22e78",
   "metadata": {},
   "outputs": [],
   "source": [
    "writedlm( join(file1), output[2], ',')\n",
    "writedlm( join(file2), output[1], ',');"
   ]
  },
  {
   "cell_type": "code",
   "execution_count": null,
   "id": "4286668f-d6eb-4504-82c5-84ccd7395ea9",
   "metadata": {},
   "outputs": [],
   "source": []
  }
 ],
 "metadata": {
  "kernelspec": {
   "display_name": "Julia 1.8.2",
   "language": "julia",
   "name": "julia-1.8"
  },
  "language_info": {
   "file_extension": ".jl",
   "mimetype": "application/julia",
   "name": "julia",
   "version": "1.8.2"
  }
 },
 "nbformat": 4,
 "nbformat_minor": 5
}
