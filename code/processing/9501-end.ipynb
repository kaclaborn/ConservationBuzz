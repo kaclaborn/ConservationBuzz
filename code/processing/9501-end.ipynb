{
 "cells": [
  {
   "cell_type": "code",
   "execution_count": 1,
   "id": "1b27c95d-c672-4aaa-be83-10ecf35b0221",
   "metadata": {},
   "outputs": [],
   "source": [
    "start = 9501\n",
    "stop = 10182;"
   ]
  },
  {
   "cell_type": "code",
   "execution_count": 2,
   "id": "9d60c05c-a77c-418f-beb7-67e7f6ed323b",
   "metadata": {},
   "outputs": [],
   "source": [
    "file1 = [\"/home/kclabor1/ConservationBuzz/data/corpora/preprocessed/media/checkduplicates/checkduplicates_nyt_\", start, \"-\", stop, \"a.csv\"]\n",
    "file2 = [\"/home/kclabor1/ConservationBuzz/data/corpora/preprocessed/media/checkduplicates/checkduplicates_nyt_\", start, \"-\", stop, \"b.csv\"];"
   ]
  },
  {
   "cell_type": "code",
   "execution_count": 3,
   "id": "2f6e0a54-d69e-4ce0-8410-07bac2824885",
   "metadata": {},
   "outputs": [],
   "source": [
    "include(\"/home/kclabor1/ConservationBuzz/code/processing/findDuplicates.jl\")"
   ]
  },
  {
   "cell_type": "code",
   "execution_count": null,
   "id": "cf86c544-05e0-4492-bb8e-186365b3b815",
   "metadata": {},
   "outputs": [],
   "source": [
    "output = stringDist(docs_nyt, start, stop);"
   ]
  },
  {
   "cell_type": "code",
   "execution_count": null,
   "id": "0cd7cc93-4761-49c8-aebf-4a460b37bcc5",
   "metadata": {},
   "outputs": [],
   "source": [
    "writedlm( join(file1), output[2], ',')\n",
    "writedlm( join(file2), output[1], ',');"
   ]
  },
  {
   "cell_type": "code",
   "execution_count": 2,
   "id": "38937a65-ce2e-44d0-b199-9cfb6bbee413",
   "metadata": {},
   "outputs": [],
   "source": [
    "start = 9501\n",
    "stop = 9653;"
   ]
  },
  {
   "cell_type": "code",
   "execution_count": 4,
   "id": "424981d0-bf51-46e6-9fd9-506770372ecf",
   "metadata": {},
   "outputs": [],
   "source": [
    "file1 = [\"/home/kclabor1/ConservationBuzz/data/corpora/preprocessed/media/checkduplicates/checkduplicates_wsj_\", start, \"-\", stop, \"a.csv\"]\n",
    "file2 = [\"/home/kclabor1/ConservationBuzz/data/corpora/preprocessed/media/checkduplicates/checkduplicates_wsj_\", start, \"-\", stop, \"b.csv\"];"
   ]
  },
  {
   "cell_type": "code",
   "execution_count": null,
   "id": "1cabf94a-7fef-482d-8730-f5ad89f1ab57",
   "metadata": {},
   "outputs": [],
   "source": [
    "output = stringDist(docs_wsj, start, stop);"
   ]
  },
  {
   "cell_type": "code",
   "execution_count": null,
   "id": "6e489431-76d9-401e-83c4-cace23b6bca8",
   "metadata": {},
   "outputs": [],
   "source": [
    "writedlm( join(file1), output[2], ',')\n",
    "writedlm( join(file2), output[1], ',');"
   ]
  },
  {
   "cell_type": "code",
   "execution_count": null,
   "id": "4ab9ee0d-da56-4a3c-86d9-56d69439ceac",
   "metadata": {},
   "outputs": [],
   "source": []
  }
 ],
 "metadata": {
  "kernelspec": {
   "display_name": "Julia 1.8.2",
   "language": "julia",
   "name": "julia-1.8"
  },
  "language_info": {
   "file_extension": ".jl",
   "mimetype": "application/julia",
   "name": "julia",
   "version": "1.8.2"
  }
 },
 "nbformat": 4,
 "nbformat_minor": 5
}
