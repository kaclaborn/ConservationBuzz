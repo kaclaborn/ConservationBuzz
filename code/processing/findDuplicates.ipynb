{
 "cells": [
  {
   "cell_type": "code",
   "execution_count": null,
   "id": "07793738-3233-4287-813e-bc94c8049464",
   "metadata": {},
   "outputs": [],
   "source": [
    "using StringDistances\n",
    "using DelimitedFiles\n",
    "using DataFrames"
   ]
  },
  {
   "cell_type": "code",
   "execution_count": null,
   "id": "15e61ee4-2b85-4650-86f5-b9b0f7762965",
   "metadata": {},
   "outputs": [],
   "source": [
    "data, header = readdlm(\"home/kclabor1/ConservationBuzz/data/corpora/preprocessed/media/docs_m.csv\", ',', header = true)"
   ]
  }
 ],
 "metadata": {
  "kernelspec": {
   "display_name": "Julia 1.8.2",
   "language": "julia",
   "name": "julia-1.8"
  },
  "language_info": {
   "file_extension": ".jl",
   "mimetype": "application/julia",
   "name": "julia",
   "version": "1.8.2"
  }
 },
 "nbformat": 4,
 "nbformat_minor": 5
}
