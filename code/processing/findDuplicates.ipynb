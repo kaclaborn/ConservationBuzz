{
 "cells": [
  {
   "cell_type": "code",
   "execution_count": 1,
   "id": "07793738-3233-4287-813e-bc94c8049464",
   "metadata": {},
   "outputs": [],
   "source": [
    "using StringDistances\n",
    "using DelimitedFiles\n",
    "using DataFrames"
   ]
  },
  {
   "cell_type": "code",
   "execution_count": 2,
   "id": "15e61ee4-2b85-4650-86f5-b9b0f7762965",
   "metadata": {},
   "outputs": [],
   "source": [
    "data_nyt, header = readdlm(\"/home/kclabor1/ConservationBuzz/data/corpora/preprocessed/media/docs_nyt_findDuplicates.csv\", ',', header = true);"
   ]
  },
  {
   "cell_type": "code",
   "execution_count": 3,
   "id": "27dd62a6-598a-4725-a80f-0c6957952351",
   "metadata": {},
   "outputs": [],
   "source": [
    "docs_nyt = DataFrame(data_nyt, vec(header));"
   ]
  },
  {
   "cell_type": "code",
   "execution_count": 4,
   "id": "31dab3e0-6c7f-4306-8214-212055d6822a",
   "metadata": {},
   "outputs": [],
   "source": [
    "data_wsj, header = readdlm(\"/home/kclabor1/ConservationBuzz/data/corpora/preprocessed/media/docs_wsj_findDuplicates.csv\", ',', header = true);"
   ]
  },
  {
   "cell_type": "code",
   "execution_count": 5,
   "id": "514fb6ab-3f62-4c13-8b0d-21963cb2f621",
   "metadata": {},
   "outputs": [],
   "source": [
    "docs_wsj = DataFrame(data_wsj, vec(header));"
   ]
  },
  {
   "cell_type": "code",
   "execution_count": 6,
   "id": "8224b9c2-12a2-4e0b-bc7a-2465bf32d39c",
   "metadata": {},
   "outputs": [],
   "source": [
    "function stringDist(datasource, start, stop)\n",
    "filename = []\n",
    "check = []\n",
    "    for i in start:stop\n",
    "        filename = push!(filename, string(\"text\", datasource[i,1]))\n",
    "        check = push!(check, findall(datasource[i,2], datasource[:,2], Levenshtein()))\n",
    "    end\n",
    "    return filename, check\n",
    "end\n",
    ";"
   ]
  },
  {
   "cell_type": "code",
   "execution_count": 8,
   "id": "5f84aaa4-66ae-47ea-b9d3-779bff94fd8d",
   "metadata": {},
   "outputs": [
    {
     "data": {
      "text/plain": [
       "(Any[\"text1\"], Any[[1]])"
      ]
     },
     "execution_count": 8,
     "metadata": {},
     "output_type": "execute_result"
    }
   ],
   "source": [
    "output_nyt_1_1 = stringDist(docs_nyt, 1, 1)"
   ]
  },
  {
   "cell_type": "code",
   "execution_count": null,
   "id": "a577e857-3b5c-4c4f-b1c9-4bc6b5685209",
   "metadata": {},
   "outputs": [],
   "source": [
    "writedlm( \"checkduplicates_nyt_1_1a.csv\",  output_nyt_row1[2], ',')"
   ]
  }
 ],
 "metadata": {
  "kernelspec": {
   "display_name": "Julia 1.8.2",
   "language": "julia",
   "name": "julia-1.8"
  },
  "language_info": {
   "file_extension": ".jl",
   "mimetype": "application/julia",
   "name": "julia",
   "version": "1.8.2"
  }
 },
 "nbformat": 4,
 "nbformat_minor": 5
}
