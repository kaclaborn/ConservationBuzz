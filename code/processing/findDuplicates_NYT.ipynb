{
 "cells": [
  {
   "cell_type": "code",
   "execution_count": 19,
   "id": "07793738-3233-4287-813e-bc94c8049464",
   "metadata": {},
   "outputs": [],
   "source": [
    "using StringDistances\n",
    "using DelimitedFiles\n",
    "using DataFrames"
   ]
  },
  {
   "cell_type": "code",
   "execution_count": 20,
   "id": "15e61ee4-2b85-4650-86f5-b9b0f7762965",
   "metadata": {},
   "outputs": [],
   "source": [
    "data_nyt, header = readdlm(\"/home/kclabor1/ConservationBuzz/data/corpora/preprocessed/media/docs_nyt_findDuplicates.csv\", ',', header = true);"
   ]
  },
  {
   "cell_type": "code",
   "execution_count": 21,
   "id": "27dd62a6-598a-4725-a80f-0c6957952351",
   "metadata": {},
   "outputs": [],
   "source": [
    "docs_nyt = DataFrame(data_nyt, vec(header));"
   ]
  },
  {
   "cell_type": "code",
   "execution_count": 5,
   "id": "8224b9c2-12a2-4e0b-bc7a-2465bf32d39c",
   "metadata": {},
   "outputs": [],
   "source": [
    "function stringDist(datasource, start, stop)\n",
    "filename = []\n",
    "check = []\n",
    "    for i in start:stop\n",
    "        filename = push!(filename, string(\"text\", datasource[i,1]))\n",
    "        check = push!(check, findall(datasource[i,2], datasource[:,2], Levenshtein()))\n",
    "    end\n",
    "    return filename, check\n",
    "end\n",
    ";"
   ]
  },
  {
   "cell_type": "code",
   "execution_count": null,
   "id": "0a275022-8669-4c65-bb15-0e0232003b89",
   "metadata": {},
   "outputs": [],
   "source": []
  }
 ],
 "metadata": {
  "kernelspec": {
   "display_name": "Julia 1.8.2",
   "language": "julia",
   "name": "julia-1.8"
  },
  "language_info": {
   "file_extension": ".jl",
   "mimetype": "application/julia",
   "name": "julia",
   "version": "1.8.2"
  }
 },
 "nbformat": 4,
 "nbformat_minor": 5
}
