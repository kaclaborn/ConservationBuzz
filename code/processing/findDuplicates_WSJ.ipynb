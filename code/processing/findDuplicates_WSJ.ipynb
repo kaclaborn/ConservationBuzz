{
 "cells": [
  {
   "cell_type": "code",
   "execution_count": null,
   "id": "5adf6d8a-298b-43e0-a968-a3503435e0f5",
   "metadata": {},
   "outputs": [],
   "source": [
    "using StringDistances\n",
    "using DelimitedFiles\n",
    "using DataFrames"
   ]
  },
  {
   "cell_type": "code",
   "execution_count": null,
   "id": "a12e2848-eaa5-4b66-b9f0-c75175065a50",
   "metadata": {},
   "outputs": [],
   "source": [
    "data_wsj, header = readdlm(\"/home/kclabor1/ConservationBuzz/data/corpora/preprocessed/media/docs_wsj_findDuplicates.csv\", ',', header = true);"
   ]
  },
  {
   "cell_type": "code",
   "execution_count": null,
   "id": "e4cc0afa-0063-4d74-9db3-678851d38f7b",
   "metadata": {},
   "outputs": [],
   "source": [
    "docs_wsj = DataFrame(data_wsj, vec(header));"
   ]
  },
  {
   "cell_type": "code",
   "execution_count": null,
   "id": "9d80b9f3-d174-46da-ba56-c39f5d3fabe5",
   "metadata": {},
   "outputs": [],
   "source": [
    "function stringDist(datasource, start, stop)\n",
    "filename = []\n",
    "check = []\n",
    "    for i in start:stop\n",
    "        filename = push!(filename, string(\"text\", datasource[i,1]))\n",
    "        check = push!(check, findall(datasource[i,2], datasource[:,2], Levenshtein()))\n",
    "    end\n",
    "    return filename, check\n",
    "end\n",
    ";"
   ]
  }
 ],
 "metadata": {
  "kernelspec": {
   "display_name": "Julia 1.8.2",
   "language": "julia",
   "name": "julia-1.8"
  },
  "language_info": {
   "file_extension": ".jl",
   "mimetype": "application/julia",
   "name": "julia",
   "version": "1.8.2"
  }
 },
 "nbformat": 4,
 "nbformat_minor": 5
}
